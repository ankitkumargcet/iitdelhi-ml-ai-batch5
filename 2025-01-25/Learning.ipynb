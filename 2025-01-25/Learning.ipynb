{
 "cells": [
  {
   "cell_type": "markdown",
   "id": "031d544b-bdf8-4fad-9164-6d5119c1ed8f",
   "metadata": {},
   "source": [
    "# Python Basics "
   ]
  },
  {
   "cell_type": "code",
   "execution_count": 1,
   "id": "df56ae57-2225-4cfa-985b-6643eac5654a",
   "metadata": {},
   "outputs": [
    {
     "name": "stdout",
     "output_type": "stream",
     "text": [
      "Welcome to Python Programming Basics\n"
     ]
    }
   ],
   "source": [
    "print(\"Welcome to Python Programming Basics\")"
   ]
  },
  {
   "cell_type": "code",
   "execution_count": 2,
   "id": "51843e64-a5e8-4480-bbd0-5a7601f1700c",
   "metadata": {},
   "outputs": [
    {
     "data": {
      "text/plain": [
       "'AnkitAnkitAnkit'"
      ]
     },
     "execution_count": 2,
     "metadata": {},
     "output_type": "execute_result"
    }
   ],
   "source": [
    "my_name = 'Ankit'\n",
    "my_name*3"
   ]
  },
  {
   "cell_type": "code",
   "execution_count": 3,
   "id": "554bbd56-1a47-48bb-863d-9608cd124a50",
   "metadata": {},
   "outputs": [
    {
     "name": "stdout",
     "output_type": "stream",
     "text": [
      "Given Numeric Value is: odd\n"
     ]
    }
   ],
   "source": [
    "# Ternary Operator\n",
    "numeric_value = 5\n",
    "result = 'even' if numeric_value % 2 == 0 else 'odd'\n",
    "print('Given Numeric Value is: ' + result)"
   ]
  },
  {
   "cell_type": "code",
   "execution_count": null,
   "id": "c6cc31d8-6ed8-4261-b68f-9b44e0f26dd2",
   "metadata": {},
   "outputs": [
    {
     "name": "stdout",
     "output_type": "stream",
     "text": [
      "Input Numeric Value is: 12\n",
      "Given Numeric Value is: EVEN\n"
     ]
    }
   ],
   "source": [
    "# Request user input\n",
    "user_input = input(\"Please provide a numeric value: \")\n",
    "print('Input Value is: ' + user_input)\n",
    "\n",
    "# Validate the input and check if it's numeric\n",
    "try:\n",
    "    numeric_value = int(user_input)  # Convert the input to an integer\n",
    "    validate_input = 'EVEN' if numeric_value % 2 == 0 else 'ODD'\n",
    "    print('Given Numeric Value is: ' + validate_input)\n",
    "except ValueError:\n",
    "    print(\"Invalid input. Please provide a numeric value.\")"
   ]
  },
  {
   "cell_type": "code",
   "execution_count": null,
   "id": "84f4fb05-710d-459e-9df6-6f1aa56f40fa",
   "metadata": {},
   "outputs": [],
   "source": []
  }
 ],
 "metadata": {
  "kernelspec": {
   "display_name": "Python 3",
   "language": "python",
   "name": "python3"
  },
  "language_info": {
   "codemirror_mode": {
    "name": "ipython",
    "version": 3
   },
   "file_extension": ".py",
   "mimetype": "text/x-python",
   "name": "python",
   "nbconvert_exporter": "python",
   "pygments_lexer": "ipython3",
   "version": "3.13.1"
  }
 },
 "nbformat": 4,
 "nbformat_minor": 5
}
